{
 "cells": [
  {
   "cell_type": "code",
   "execution_count": 73,
   "outputs": [
    {
     "data": {
      "text/plain": "<bound method Series.unique of 0     100\n1     100\n2     100\n3       1\n4      99\n5       1\n6     100\n7      10\n8       4\n9     100\n10    100\n11    100\n12    100\n13    100\n14    100\n15    100\n16    100\n17    100\n18    100\n19      1\n20    100\n21    100\n22    100\n23    100\n24      1\n25    100\n26    100\n27    100\n28    100\n29    100\n30    100\n31     98\n32    100\n33    100\n34    100\n35    100\n36     94\n37    100\n38    100\n39    100\n40    100\n41    100\n42    100\n43    100\n44    100\n45    100\n46    100\n47    100\n48    100\n49      1\n50    100\n51      1\n52    100\n53    100\n54    100\n55    100\n56    100\n57    100\n58    100\n59    100\nName: score, dtype: int64>"
     },
     "execution_count": 73,
     "metadata": {},
     "output_type": "execute_result"
    }
   ],
   "source": [
    "import pandas as pd\n",
    "import numpy as np\n",
    "subjects=['04','05','06','07','08','09','11','12','13']\n",
    "\n",
    "df=pd.read_csv(\"/Users/yillysaurus/Downloads/data/sub-\"+subjects[0]+\"/func1/events.tsv\",delimiter=\"\\t\")\n",
    "\n",
    "df=df.fillna(0)\n",
    "import math\n",
    "df=df.assign(Timepoint=df['onset'].values)\n",
    "for index, row in df.iterrows():\n",
    "    if row['trial_type'] == 'inter_trials':\n",
    "        df.at[index, 'Timepoint'] = 0\n",
    "\n",
    "df.Timepoint=[math.ceil(x) for x in df.Timepoint]\n",
    "df.Timepoint=[x/2 for x in df.Timepoint]\n",
    "df.Timepoint=[math.ceil(x) for x in df.Timepoint]\n",
    "\n",
    "loved_food=df[df['score']>=np.percentile(df.score,75)].Timepoint.values.tolist()\n",
    "loved_food=sorted(set(loved_food))\n",
    "loved_list=[int(x) for x in loved_food]\n",
    "lovely_list = ' '.join(str(item) for item in loved_list)\n",
    "print('loved_food_index=',lovely_list)\n",
    "\n",
    "hated_food=df[df['score']<=np.percentile(df.score,25)].Timepoint.values.tolist()\n",
    "hated_food=sorted(set(hated_food))\n",
    "hated_list=[int(x) for x in hated_food]\n",
    "hately_list = ' '.join(str(item) for item in hated_list)\n",
    "print('hated_food_index=',hately_list)\n",
    "\n",
    "long_food=df[df['duration']>=np.percentile(df.duration,75)].Timepoint.values.tolist()\n",
    "long_food=sorted(set(long_food))\n",
    "long_list=[int(x) for x in long_food]\n",
    "longly_list = ' '.join(str(item) for item in long_list)\n",
    "print('long_observation_index=',longly_list)\n",
    "\n",
    "short_food=df[df['duration']<=np.percentile(df.duration,25)].Timepoint.values.tolist()\n",
    "short_food=sorted(set(short_food))\n",
    "short_list=[int(x) for x in short_food]\n",
    "shortly_list = ' '.join(str(item) for item in short_list)\n",
    "print('short_observation_index=',shortly_list)\n"
   ],
   "metadata": {
    "collapsed": false,
    "ExecuteTime": {
     "end_time": "2023-08-04T07:44:54.499293Z",
     "start_time": "2023-08-04T07:44:54.493249Z"
    }
   }
  },
  {
   "cell_type": "markdown",
   "source": [
    "# Food Preference Task w/comment"
   ],
   "metadata": {
    "collapsed": false
   }
  },
  {
   "cell_type": "code",
   "execution_count": null,
   "outputs": [],
   "source": [
    "# Import necessary libraries\n",
    "import pandas as pd\n",
    "import numpy as np\n",
    "\n",
    "# Define a list of subject IDs\n",
    "subjects = ['04', '05', '06', '07', '08', '09', '11', '12', '13']\n",
    "\n",
    "# Read the CSV file into a DataFrame using the first subject ID from the list\n",
    "df = pd.read_csv(\"/Users/yillysaurus/Downloads/data/sub-\" + subjects[0] + \"/func1/events.tsv\", delimiter=\"\\t\")\n",
    "\n",
    "# Fill any missing values in the DataFrame with 0\n",
    "df = df.fillna(0)\n",
    "\n",
    "# Import the 'math' module for mathematical operations\n",
    "import math\n",
    "\n",
    "# Assign the 'onset' values to the 'Timepoint' column\n",
    "df = df.assign(Timepoint=df['onset'].values)\n",
    "\n",
    "# For each row in the DataFrame, check if the 'trial_type' is 'inter_trials',\n",
    "# and if so, set the corresponding 'Timepoint' value to 0\n",
    "for index, row in df.iterrows():\n",
    "    if row['trial_type'] == 'inter_trials':\n",
    "        df.at[index, 'Timepoint'] = 0\n",
    "\n",
    "# Round the 'Timepoint' values to the nearest integer, then divide them by 2, and round again to the nearest integer\n",
    "df.Timepoint = [math.ceil(x) for x in df.Timepoint]\n",
    "df.Timepoint = [x / 2 for x in df.Timepoint]\n",
    "df.Timepoint = [math.ceil(x) for x in df.Timepoint]\n",
    "\n",
    "# Find the 'Timepoint' values corresponding to the 75th percentile of the 'score' column\n",
    "# and store them as a list of integers in 'loved_food'\n",
    "loved_food = df[df['score'] >= np.percentile(df.score, 75)].Timepoint.values.tolist()\n",
    "loved_food = sorted(set(loved_food))\n",
    "loved_list = [int(x) for x in loved_food]\n",
    "\n",
    "# Convert the 'loved_list' to a space-separated string and print the result\n",
    "lovely_list = ' '.join(str(item) for item in loved_list)\n",
    "print('loved_food_index=', lovely_list)\n",
    "\n",
    "# Find the 'Timepoint' values corresponding to the 25th percentile of the 'score' column\n",
    "# and store them as a list of integers in 'hated_food'\n",
    "hated_food = df[df['score'] <= np.percentile(df.score, 25)].Timepoint.values.tolist()\n",
    "hated_food = sorted(set(hated_food))\n",
    "hated_list = [int(x) for x in hated_food]\n",
    "\n",
    "# Convert the 'hated_list' to a space-separated string and print the result\n",
    "hately_list = ' '.join(str(item) for item in hated_list)\n",
    "print('hated_food_index=', hately_list)\n",
    "\n",
    "# Find the 'Timepoint' values corresponding to the 75th percentile of the 'duration' column\n",
    "# and store them as a list of integers in 'long_food'\n",
    "long_food = df[df['duration'] >= np.percentile(df.duration, 75)].Timepoint.values.tolist()\n",
    "long_food = sorted(set(long_food))\n",
    "long_list = [int(x) for x in long_food]\n",
    "\n",
    "# Convert the 'long_list' to a space-separated string and print the result\n",
    "longly_list = ' '.join(str(item) for item in long_list)\n",
    "print('long_observation_index=', longly_list)\n",
    "\n",
    "# Find the 'Timepoint' values corresponding to the 25th percentile of the 'duration' column\n",
    "# and store them as a list of integers in 'short_food'\n",
    "short_food = df[df['duration'] <= np.percentile(df.duration, 25)].Timepoint.values.tolist()\n",
    "short_food = sorted(set(short_food))\n",
    "short_list = [int(x) for x in short_food]\n",
    "\n",
    "# Convert the 'short_list' to a space-separated string and print the result\n",
    "shortly_list = ' '.join(str(item) for item in short_list)\n",
    "print('short_observation_index=', shortly_list)\n",
    "\n",
    "\n",
    "\n"
   ],
   "metadata": {
    "collapsed": false
   }
  }
 ],
 "metadata": {
  "kernelspec": {
   "display_name": "Python 3",
   "language": "python",
   "name": "python3"
  },
  "language_info": {
   "codemirror_mode": {
    "name": "ipython",
    "version": 2
   },
   "file_extension": ".py",
   "mimetype": "text/x-python",
   "name": "python",
   "nbconvert_exporter": "python",
   "pygments_lexer": "ipython2",
   "version": "2.7.6"
  }
 },
 "nbformat": 4,
 "nbformat_minor": 0
}
